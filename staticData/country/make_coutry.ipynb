{
 "cells": [
  {
   "cell_type": "code",
   "execution_count": 2,
   "id": "25cb1dd8",
   "metadata": {},
   "outputs": [],
   "source": [
    "import numpy as np\n",
    "import pandas as pd"
   ]
  },
  {
   "cell_type": "code",
   "execution_count": 3,
   "id": "0e12dd93",
   "metadata": {},
   "outputs": [
    {
     "data": {
      "application/vnd.microsoft.datawrangler.viewer.v0+json": {
       "columns": [
        {
         "name": "index",
         "rawType": "int64",
         "type": "integer"
        },
        {
         "name": "geo_id",
         "rawType": "int64",
         "type": "integer"
        },
        {
         "name": "geo_code",
         "rawType": "object",
         "type": "string"
        },
        {
         "name": "name_en",
         "rawType": "object",
         "type": "string"
        },
        {
         "name": "name_th",
         "rawType": "object",
         "type": "string"
        },
        {
         "name": "abbreviation",
         "rawType": "object",
         "type": "string"
        },
        {
         "name": "type_id",
         "rawType": "int64",
         "type": "integer"
        }
       ],
       "ref": "d0461020-8464-40e2-8101-061eb5e82b68",
       "rows": [
        [
         "0",
         "1",
         "AF",
         "Afghanistan",
         "อัฟกานิสถาน",
         "AF",
         "1"
        ],
        [
         "1",
         "2",
         "AX",
         "Åland Islands",
         "หมู่เกาะโอลันด์",
         "AX",
         "1"
        ],
        [
         "2",
         "3",
         "AL",
         "Albania",
         "แอลเบเนีย",
         "AL",
         "1"
        ],
        [
         "3",
         "4",
         "DZ",
         "Algeria",
         "แอลจีเรีย",
         "DZ",
         "1"
        ],
        [
         "4",
         "5",
         "AS",
         "American Samoa",
         "อเมริกันซามัว",
         "AS",
         "1"
        ]
       ],
       "shape": {
        "columns": 6,
        "rows": 5
       }
      },
      "text/html": [
       "<div>\n",
       "<style scoped>\n",
       "    .dataframe tbody tr th:only-of-type {\n",
       "        vertical-align: middle;\n",
       "    }\n",
       "\n",
       "    .dataframe tbody tr th {\n",
       "        vertical-align: top;\n",
       "    }\n",
       "\n",
       "    .dataframe thead th {\n",
       "        text-align: right;\n",
       "    }\n",
       "</style>\n",
       "<table border=\"1\" class=\"dataframe\">\n",
       "  <thead>\n",
       "    <tr style=\"text-align: right;\">\n",
       "      <th></th>\n",
       "      <th>geo_id</th>\n",
       "      <th>geo_code</th>\n",
       "      <th>name_en</th>\n",
       "      <th>name_th</th>\n",
       "      <th>abbreviation</th>\n",
       "      <th>type_id</th>\n",
       "    </tr>\n",
       "  </thead>\n",
       "  <tbody>\n",
       "    <tr>\n",
       "      <th>0</th>\n",
       "      <td>1</td>\n",
       "      <td>AF</td>\n",
       "      <td>Afghanistan</td>\n",
       "      <td>อัฟกานิสถาน</td>\n",
       "      <td>AF</td>\n",
       "      <td>1</td>\n",
       "    </tr>\n",
       "    <tr>\n",
       "      <th>1</th>\n",
       "      <td>2</td>\n",
       "      <td>AX</td>\n",
       "      <td>Åland Islands</td>\n",
       "      <td>หมู่เกาะโอลันด์</td>\n",
       "      <td>AX</td>\n",
       "      <td>1</td>\n",
       "    </tr>\n",
       "    <tr>\n",
       "      <th>2</th>\n",
       "      <td>3</td>\n",
       "      <td>AL</td>\n",
       "      <td>Albania</td>\n",
       "      <td>แอลเบเนีย</td>\n",
       "      <td>AL</td>\n",
       "      <td>1</td>\n",
       "    </tr>\n",
       "    <tr>\n",
       "      <th>3</th>\n",
       "      <td>4</td>\n",
       "      <td>DZ</td>\n",
       "      <td>Algeria</td>\n",
       "      <td>แอลจีเรีย</td>\n",
       "      <td>DZ</td>\n",
       "      <td>1</td>\n",
       "    </tr>\n",
       "    <tr>\n",
       "      <th>4</th>\n",
       "      <td>5</td>\n",
       "      <td>AS</td>\n",
       "      <td>American Samoa</td>\n",
       "      <td>อเมริกันซามัว</td>\n",
       "      <td>AS</td>\n",
       "      <td>1</td>\n",
       "    </tr>\n",
       "  </tbody>\n",
       "</table>\n",
       "</div>"
      ],
      "text/plain": [
       "   geo_id geo_code         name_en          name_th abbreviation  type_id\n",
       "0       1       AF     Afghanistan      อัฟกานิสถาน           AF        1\n",
       "1       2       AX   Åland Islands  หมู่เกาะโอลันด์           AX        1\n",
       "2       3       AL         Albania        แอลเบเนีย           AL        1\n",
       "3       4       DZ         Algeria        แอลจีเรีย           DZ        1\n",
       "4       5       AS  American Samoa    อเมริกันซามัว           AS        1"
      ]
     },
     "execution_count": 3,
     "metadata": {},
     "output_type": "execute_result"
    }
   ],
   "source": [
    "df1 = pd.read_csv('./country_suppertype.csv')\n",
    "df1.head()"
   ]
  },
  {
   "cell_type": "code",
   "execution_count": 4,
   "id": "440e261c",
   "metadata": {},
   "outputs": [
    {
     "data": {
      "application/vnd.microsoft.datawrangler.viewer.v0+json": {
       "columns": [
        {
         "name": "index",
         "rawType": "int64",
         "type": "integer"
        },
        {
         "name": "id",
         "rawType": "int64",
         "type": "integer"
        },
        {
         "name": "isocode",
         "rawType": "object",
         "type": "string"
        },
        {
         "name": "name_en",
         "rawType": "object",
         "type": "string"
        },
        {
         "name": "name_th",
         "rawType": "object",
         "type": "string"
        }
       ],
       "ref": "763a9290-0bce-4014-ba7d-b84f6a06044f",
       "rows": [
        [
         "0",
         "1",
         "AF",
         "Afghanistan",
         "อัฟกานิสถาน"
        ],
        [
         "1",
         "2",
         "AX",
         "Åland Islands",
         "หมู่เกาะโอลันด์"
        ],
        [
         "2",
         "3",
         "AL",
         "Albania",
         "แอลเบเนีย"
        ],
        [
         "3",
         "4",
         "DZ",
         "Algeria",
         "แอลจีเรีย"
        ],
        [
         "4",
         "5",
         "AS",
         "American Samoa",
         "อเมริกันซามัว"
        ]
       ],
       "shape": {
        "columns": 4,
        "rows": 5
       }
      },
      "text/html": [
       "<div>\n",
       "<style scoped>\n",
       "    .dataframe tbody tr th:only-of-type {\n",
       "        vertical-align: middle;\n",
       "    }\n",
       "\n",
       "    .dataframe tbody tr th {\n",
       "        vertical-align: top;\n",
       "    }\n",
       "\n",
       "    .dataframe thead th {\n",
       "        text-align: right;\n",
       "    }\n",
       "</style>\n",
       "<table border=\"1\" class=\"dataframe\">\n",
       "  <thead>\n",
       "    <tr style=\"text-align: right;\">\n",
       "      <th></th>\n",
       "      <th>id</th>\n",
       "      <th>isocode</th>\n",
       "      <th>name_en</th>\n",
       "      <th>name_th</th>\n",
       "    </tr>\n",
       "  </thead>\n",
       "  <tbody>\n",
       "    <tr>\n",
       "      <th>0</th>\n",
       "      <td>1</td>\n",
       "      <td>AF</td>\n",
       "      <td>Afghanistan</td>\n",
       "      <td>อัฟกานิสถาน</td>\n",
       "    </tr>\n",
       "    <tr>\n",
       "      <th>1</th>\n",
       "      <td>2</td>\n",
       "      <td>AX</td>\n",
       "      <td>Åland Islands</td>\n",
       "      <td>หมู่เกาะโอลันด์</td>\n",
       "    </tr>\n",
       "    <tr>\n",
       "      <th>2</th>\n",
       "      <td>3</td>\n",
       "      <td>AL</td>\n",
       "      <td>Albania</td>\n",
       "      <td>แอลเบเนีย</td>\n",
       "    </tr>\n",
       "    <tr>\n",
       "      <th>3</th>\n",
       "      <td>4</td>\n",
       "      <td>DZ</td>\n",
       "      <td>Algeria</td>\n",
       "      <td>แอลจีเรีย</td>\n",
       "    </tr>\n",
       "    <tr>\n",
       "      <th>4</th>\n",
       "      <td>5</td>\n",
       "      <td>AS</td>\n",
       "      <td>American Samoa</td>\n",
       "      <td>อเมริกันซามัว</td>\n",
       "    </tr>\n",
       "  </tbody>\n",
       "</table>\n",
       "</div>"
      ],
      "text/plain": [
       "   id isocode         name_en          name_th\n",
       "0   1      AF     Afghanistan      อัฟกานิสถาน\n",
       "1   2      AX   Åland Islands  หมู่เกาะโอลันด์\n",
       "2   3      AL         Albania        แอลเบเนีย\n",
       "3   4      DZ         Algeria        แอลจีเรีย\n",
       "4   5      AS  American Samoa    อเมริกันซามัว"
      ]
     },
     "execution_count": 4,
     "metadata": {},
     "output_type": "execute_result"
    }
   ],
   "source": [
    "df2 = pd.DataFrame({\n",
    "    'id': range(1,len(df1)+1),\n",
    "    'isocode': df1['geo_code'],\n",
    "    'name_en': df1['name_en'],\n",
    "    'name_th': df1['name_th']\n",
    "})\n",
    "df2.head()"
   ]
  },
  {
   "cell_type": "code",
   "execution_count": 5,
   "id": "e6b3529a",
   "metadata": {},
   "outputs": [],
   "source": [
    "df2.to_csv('./static_country.csv', index=False)"
   ]
  }
 ],
 "metadata": {
  "kernelspec": {
   "display_name": "Python 3",
   "language": "python",
   "name": "python3"
  },
  "language_info": {
   "codemirror_mode": {
    "name": "ipython",
    "version": 3
   },
   "file_extension": ".py",
   "mimetype": "text/x-python",
   "name": "python",
   "nbconvert_exporter": "python",
   "pygments_lexer": "ipython3",
   "version": "3.11.7"
  }
 },
 "nbformat": 4,
 "nbformat_minor": 5
}
