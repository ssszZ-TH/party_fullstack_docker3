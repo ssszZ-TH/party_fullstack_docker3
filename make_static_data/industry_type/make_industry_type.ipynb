{
 "cells": [
  {
   "cell_type": "code",
   "execution_count": 7,
   "id": "d4ffe4b3",
   "metadata": {},
   "outputs": [
    {
     "data": {
      "application/vnd.microsoft.datawrangler.viewer.v0+json": {
       "columns": [
        {
         "name": "index",
         "rawType": "int64",
         "type": "integer"
        },
        {
         "name": "Input Seq 1",
         "rawType": "int64",
         "type": "integer"
        },
        {
         "name": "2022 NAICS Code",
         "rawType": "int64",
         "type": "integer"
        },
        {
         "name": "2022 NAICS Title",
         "rawType": "object",
         "type": "string"
        },
        {
         "name": "Related SIC Code",
         "rawType": "object",
         "type": "unknown"
        },
        {
         "name": "Related SIC Code Description",
         "rawType": "object",
         "type": "unknown"
        },
        {
         "name": "Change to 2017 Code",
         "rawType": "object",
         "type": "string"
        },
        {
         "name": "2017 NAICS Code",
         "rawType": "object",
         "type": "unknown"
        },
        {
         "name": "2017 NAICS Code.1",
         "rawType": "object",
         "type": "string"
        }
       ],
       "ref": "915a441e-86b6-4503-bdbb-b64dc6e5d6c2",
       "rows": [
        [
         "0",
         "1",
         "111110",
         "Soybean Farming",
         "116",
         "Soybeans",
         "No Change",
         "111110",
         "Soybean Farming"
        ],
        [
         "1",
         "2",
         "111120",
         "Oilseed (except Soybean) Farming ",
         "119",
         "Cash Grains, Nec",
         "No Change",
         "111120",
         "Oilseed (except Soybean) Farming "
        ],
        [
         "2",
         "3",
         "111130",
         "Dry Pea and Bean Farming ",
         "119",
         "Cash Grains, Nec",
         "No Change",
         "111130",
         "Dry Pea and Bean Farming "
        ],
        [
         "3",
         "4",
         "111140",
         "Wheat Farming",
         "111",
         "Wheat",
         "No Change",
         "111140",
         "Wheat Farming"
        ],
        [
         "4",
         "5",
         "111150",
         "Corn Farming ",
         "115",
         "Corn",
         "No Change",
         "111150",
         "Corn Farming "
        ],
        [
         "5",
         "6",
         "111150",
         "Corn Farming ",
         "119",
         "Cash Grains, Nec",
         "No Change",
         "111150",
         "Corn Farming "
        ],
        [
         "6",
         "7",
         "111160",
         "Rice Farming",
         "112",
         "Rice",
         "No Change",
         "111160",
         "Rice Farming"
        ],
        [
         "7",
         "8",
         "111191",
         "Oilseed and Grain Combination Farming ",
         "119",
         "Cash Grains, Nec",
         "No Change",
         "111191",
         "Oilseed and Grain Combination Farming "
        ],
        [
         "8",
         "9",
         "111199",
         "All Other Grain Farming ",
         "119",
         "Cash Grains, Nec",
         "No Change",
         "111199",
         "All Other Grain Farming "
        ],
        [
         "9",
         "10",
         "111199",
         "All Other Grain Farming ",
         "139",
         "Field Crops, Except Cash Grain",
         "No Change",
         "111199",
         "All Other Grain Farming "
        ],
        [
         "10",
         "11",
         "111211",
         "Potato Farming ",
         "134",
         "Irish Potatoes",
         "No Change",
         "111211",
         "Potato Farming "
        ],
        [
         "11",
         "12",
         "111211",
         "Potato Farming ",
         "139",
         "Field Crops, Except Cash Grain",
         "No Change",
         "111211",
         "Potato Farming "
        ],
        [
         "12",
         "13",
         "111211",
         "Potato Farming ",
         "161",
         "Vegetables and Melons",
         "No Change",
         "111211",
         "Potato Farming "
        ],
        [
         "13",
         "14",
         "111219",
         "Other Vegetable (except Potato) and Melon Farming ",
         "139",
         "Field Crops, Except Cash Grain",
         "No Change",
         "111219",
         "Other Vegetable (except Potato) and Melon Farming "
        ],
        [
         "14",
         "15",
         "111219",
         "Other Vegetable (except Potato) and Melon Farming ",
         "161",
         "Vegetables and Melons",
         "No Change",
         "111219",
         "Other Vegetable (except Potato) and Melon Farming "
        ],
        [
         "15",
         "16",
         "111310",
         "Orange Groves",
         "174",
         "Citrus Fruits",
         "No Change",
         "111310",
         "Orange Groves"
        ],
        [
         "16",
         "17",
         "111320",
         "Citrus (except Orange) Groves ",
         "174",
         "Citrus Fruits",
         "No Change",
         "111320",
         "Citrus (except Orange) Groves "
        ],
        [
         "17",
         "18",
         "111331",
         "Apple Orchards ",
         "175",
         "Deciduous Tree Fruits",
         "No Change",
         "111331",
         "Apple Orchards "
        ],
        [
         "18",
         "19",
         "111332",
         "Grape Vineyards ",
         "172",
         "Grapes",
         "No Change",
         "111332",
         "Grape Vineyards "
        ],
        [
         "19",
         "20",
         "111333",
         "Strawberry Farming ",
         "171",
         "Berry Crops",
         "No Change",
         "111333",
         "Strawberry Farming "
        ],
        [
         "20",
         "21",
         "111334",
         "Berry (except Strawberry) Farming ",
         "171",
         "Berry Crops",
         "No Change",
         "111334",
         "Berry (except Strawberry) Farming "
        ],
        [
         "21",
         "22",
         "111335",
         "Tree Nut Farming ",
         "173",
         "Tree Nuts",
         "No Change",
         "111335",
         "Tree Nut Farming "
        ],
        [
         "22",
         "23",
         "111336",
         "Fruit and Tree Nut Combination Farming ",
         "179",
         "Fruits and Tree Nuts, Nec",
         "No Change",
         "111336",
         "Fruit and Tree Nut Combination Farming "
        ],
        [
         "23",
         "24",
         "111339",
         "Other Noncitrus Fruit Farming ",
         "175",
         "Deciduous Tree Fruits",
         "No Change",
         "111339",
         "Other Noncitrus Fruit Farming "
        ],
        [
         "24",
         "25",
         "111339",
         "Other Noncitrus Fruit Farming ",
         "179",
         "Fruits and Tree Nuts, Nec",
         "No Change",
         "111339",
         "Other Noncitrus Fruit Farming "
        ],
        [
         "25",
         "26",
         "111411",
         "Mushroom Production ",
         "182",
         "Food Crops Grown Under Cover",
         "No Change",
         "111411",
         "Mushroom Production "
        ],
        [
         "26",
         "27",
         "111419",
         "Other Food Crops Grown Under Cover ",
         "182",
         "Food Crops Grown Under Cover",
         "No Change",
         "111419",
         "Other Food Crops Grown Under Cover "
        ],
        [
         "27",
         "28",
         "111421",
         "Nursery and Tree Production ",
         "181",
         "Ornamental Nursery Products",
         "No Change",
         "111421",
         "Nursery and Tree Production "
        ],
        [
         "28",
         "29",
         "111421",
         "Nursery and Tree Production ",
         "811",
         "Timber Tracts",
         "No Change",
         "111421",
         "Nursery and Tree Production "
        ],
        [
         "29",
         "30",
         "111422",
         "Floriculture Production ",
         "181",
         "Ornamental Nursery Products",
         "No Change",
         "111422",
         "Floriculture Production "
        ],
        [
         "30",
         "31",
         "111910",
         "Tobacco Farming",
         "132",
         "Tobacco",
         "No Change",
         "111910",
         "Tobacco Farming"
        ],
        [
         "31",
         "32",
         "111920",
         "Cotton Farming",
         "131",
         "Cotton",
         "No Change",
         "111920",
         "Cotton Farming"
        ],
        [
         "32",
         "33",
         "111930",
         "Sugarcane Farming",
         "133",
         "Sugarcane and Sugar Beets",
         "No Change",
         "111930",
         "Sugarcane Farming"
        ],
        [
         "33",
         "34",
         "111940",
         "Hay Farming ",
         "139",
         "Field Crops, Except Cash Grain",
         "No Change",
         "111940",
         "Hay Farming "
        ],
        [
         "34",
         "35",
         "111991",
         "Sugar Beet Farming ",
         "133",
         "Sugarcane and Sugar Beets",
         "No Change",
         "111991",
         "Sugar Beet Farming "
        ],
        [
         "35",
         "36",
         "111992",
         "Peanut Farming ",
         "139",
         "Field Crops, Except Cash Grain",
         "No Change",
         "111992",
         "Peanut Farming "
        ],
        [
         "36",
         "37",
         "111998",
         "All Other Miscellaneous Crop Farming ",
         "139",
         "Field Crops, Except Cash Grain",
         "No Change",
         "111998",
         "All Other Miscellaneous Crop Farming "
        ],
        [
         "37",
         "38",
         "111998",
         "All Other Miscellaneous Crop Farming ",
         "191",
         "General Farms, Primarily Crop",
         "No Change",
         "111998",
         "All Other Miscellaneous Crop Farming "
        ],
        [
         "38",
         "39",
         "111998",
         "All Other Miscellaneous Crop Farming ",
         "831",
         "Forest Products",
         "No Change",
         "111998",
         "All Other Miscellaneous Crop Farming "
        ],
        [
         "39",
         "40",
         "111998",
         "All Other Miscellaneous Crop Farming ",
         "919",
         "Miscellaneous Marine Products",
         "No Change",
         "111998",
         "All Other Miscellaneous Crop Farming "
        ],
        [
         "40",
         "41",
         "111998",
         "All Other Miscellaneous Crop Farming ",
         "2099",
         "Food Preparations, Nec",
         "No Change",
         "111998",
         "All Other Miscellaneous Crop Farming "
        ],
        [
         "41",
         "42",
         "112111",
         "Beef Cattle Ranching and Farming ",
         "212",
         "Beef Cattle, Except Feedlots",
         "No Change",
         "112111",
         "Beef Cattle Ranching and Farming "
        ],
        [
         "42",
         "43",
         "112111",
         "Beef Cattle Ranching and Farming ",
         "241",
         "Dairy Farms",
         "No Change",
         "112111",
         "Beef Cattle Ranching and Farming "
        ],
        [
         "43",
         "44",
         "112112",
         "Cattle Feedlots ",
         "211",
         "Beef Cattle Feedlots",
         "No Change",
         "112112",
         "Cattle Feedlots "
        ],
        [
         "44",
         "45",
         "112120",
         "Dairy Cattle and Milk Production",
         "241",
         "Dairy Farms",
         "No Change",
         "112120",
         "Dairy Cattle and Milk Production"
        ],
        [
         "45",
         "46",
         "112130",
         "Dual-Purpose Cattle Ranching and Farming ",
         "Aux",
         null,
         "No Change",
         "112130",
         "Dual-Purpose Cattle Ranching and Farming "
        ],
        [
         "46",
         "47",
         "112210",
         "Hog and Pig Farming ",
         "213",
         "Hogs",
         "No Change",
         "112210",
         "Hog and Pig Farming "
        ],
        [
         "47",
         "48",
         "112310",
         "Chicken Egg Production ",
         "252",
         "Chicken Eggs",
         "No Change",
         "112310",
         "Chicken Egg Production "
        ],
        [
         "48",
         "49",
         "112320",
         "Broilers and Other Meat Type Chicken Production ",
         "251",
         "Broiler, Fryer, and Roaster Chickens",
         "No Change",
         "112320",
         "Broilers and Other Meat Type Chicken Production "
        ],
        [
         "49",
         "50",
         "112330",
         "Turkey Production",
         "253",
         "Turkeys and Turkey Eggs",
         "No Change",
         "112330",
         "Turkey Production"
        ]
       ],
       "shape": {
        "columns": 8,
        "rows": 2350
       }
      },
      "text/html": [
       "<div>\n",
       "<style scoped>\n",
       "    .dataframe tbody tr th:only-of-type {\n",
       "        vertical-align: middle;\n",
       "    }\n",
       "\n",
       "    .dataframe tbody tr th {\n",
       "        vertical-align: top;\n",
       "    }\n",
       "\n",
       "    .dataframe thead th {\n",
       "        text-align: right;\n",
       "    }\n",
       "</style>\n",
       "<table border=\"1\" class=\"dataframe\">\n",
       "  <thead>\n",
       "    <tr style=\"text-align: right;\">\n",
       "      <th></th>\n",
       "      <th>Input Seq 1</th>\n",
       "      <th>2022 NAICS Code</th>\n",
       "      <th>2022 NAICS Title</th>\n",
       "      <th>Related SIC Code</th>\n",
       "      <th>Related SIC Code Description</th>\n",
       "      <th>Change to 2017 Code</th>\n",
       "      <th>2017 NAICS Code</th>\n",
       "      <th>2017 NAICS Code.1</th>\n",
       "    </tr>\n",
       "  </thead>\n",
       "  <tbody>\n",
       "    <tr>\n",
       "      <th>0</th>\n",
       "      <td>1</td>\n",
       "      <td>111110</td>\n",
       "      <td>Soybean Farming</td>\n",
       "      <td>116</td>\n",
       "      <td>Soybeans</td>\n",
       "      <td>No Change</td>\n",
       "      <td>111110</td>\n",
       "      <td>Soybean Farming</td>\n",
       "    </tr>\n",
       "    <tr>\n",
       "      <th>1</th>\n",
       "      <td>2</td>\n",
       "      <td>111120</td>\n",
       "      <td>Oilseed (except Soybean) Farming</td>\n",
       "      <td>119</td>\n",
       "      <td>Cash Grains, Nec</td>\n",
       "      <td>No Change</td>\n",
       "      <td>111120</td>\n",
       "      <td>Oilseed (except Soybean) Farming</td>\n",
       "    </tr>\n",
       "    <tr>\n",
       "      <th>2</th>\n",
       "      <td>3</td>\n",
       "      <td>111130</td>\n",
       "      <td>Dry Pea and Bean Farming</td>\n",
       "      <td>119</td>\n",
       "      <td>Cash Grains, Nec</td>\n",
       "      <td>No Change</td>\n",
       "      <td>111130</td>\n",
       "      <td>Dry Pea and Bean Farming</td>\n",
       "    </tr>\n",
       "    <tr>\n",
       "      <th>3</th>\n",
       "      <td>4</td>\n",
       "      <td>111140</td>\n",
       "      <td>Wheat Farming</td>\n",
       "      <td>111</td>\n",
       "      <td>Wheat</td>\n",
       "      <td>No Change</td>\n",
       "      <td>111140</td>\n",
       "      <td>Wheat Farming</td>\n",
       "    </tr>\n",
       "    <tr>\n",
       "      <th>4</th>\n",
       "      <td>5</td>\n",
       "      <td>111150</td>\n",
       "      <td>Corn Farming</td>\n",
       "      <td>115</td>\n",
       "      <td>Corn</td>\n",
       "      <td>No Change</td>\n",
       "      <td>111150</td>\n",
       "      <td>Corn Farming</td>\n",
       "    </tr>\n",
       "    <tr>\n",
       "      <th>...</th>\n",
       "      <td>...</td>\n",
       "      <td>...</td>\n",
       "      <td>...</td>\n",
       "      <td>...</td>\n",
       "      <td>...</td>\n",
       "      <td>...</td>\n",
       "      <td>...</td>\n",
       "      <td>...</td>\n",
       "    </tr>\n",
       "    <tr>\n",
       "      <th>2345</th>\n",
       "      <td>2346</td>\n",
       "      <td>926140</td>\n",
       "      <td>Regulation of Agricultural Marketing and Commo...</td>\n",
       "      <td>9641</td>\n",
       "      <td>Regulation of Agricultural Marketing</td>\n",
       "      <td>No Change</td>\n",
       "      <td>926140</td>\n",
       "      <td>Regulation of Agricultural Marketing and Commo...</td>\n",
       "    </tr>\n",
       "    <tr>\n",
       "      <th>2346</th>\n",
       "      <td>2347</td>\n",
       "      <td>926150</td>\n",
       "      <td>Regulation, Licensing, and Inspection of Misce...</td>\n",
       "      <td>9651</td>\n",
       "      <td>Regulation, Miscellaneous Commercial Sectors</td>\n",
       "      <td>No Change</td>\n",
       "      <td>926150</td>\n",
       "      <td>Regulation, Licensing, and Inspection of Misce...</td>\n",
       "    </tr>\n",
       "    <tr>\n",
       "      <th>2347</th>\n",
       "      <td>2348</td>\n",
       "      <td>927110</td>\n",
       "      <td>Space Research and Technology</td>\n",
       "      <td>9661</td>\n",
       "      <td>Space Research and Technology</td>\n",
       "      <td>No Change</td>\n",
       "      <td>927110</td>\n",
       "      <td>Space Research and Technology</td>\n",
       "    </tr>\n",
       "    <tr>\n",
       "      <th>2348</th>\n",
       "      <td>2349</td>\n",
       "      <td>928110</td>\n",
       "      <td>National Security</td>\n",
       "      <td>9711</td>\n",
       "      <td>National Security</td>\n",
       "      <td>No Change</td>\n",
       "      <td>928110</td>\n",
       "      <td>National Security</td>\n",
       "    </tr>\n",
       "    <tr>\n",
       "      <th>2349</th>\n",
       "      <td>2350</td>\n",
       "      <td>928120</td>\n",
       "      <td>International Affairs</td>\n",
       "      <td>9721</td>\n",
       "      <td>International Affairs</td>\n",
       "      <td>No Change</td>\n",
       "      <td>928120</td>\n",
       "      <td>International Affairs</td>\n",
       "    </tr>\n",
       "  </tbody>\n",
       "</table>\n",
       "<p>2350 rows × 8 columns</p>\n",
       "</div>"
      ],
      "text/plain": [
       "      Input Seq 1  2022 NAICS Code  \\\n",
       "0               1           111110   \n",
       "1               2           111120   \n",
       "2               3           111130   \n",
       "3               4           111140   \n",
       "4               5           111150   \n",
       "...           ...              ...   \n",
       "2345         2346           926140   \n",
       "2346         2347           926150   \n",
       "2347         2348           927110   \n",
       "2348         2349           928110   \n",
       "2349         2350           928120   \n",
       "\n",
       "                                       2022 NAICS Title Related SIC Code  \\\n",
       "0                                       Soybean Farming              116   \n",
       "1                     Oilseed (except Soybean) Farming               119   \n",
       "2                             Dry Pea and Bean Farming               119   \n",
       "3                                         Wheat Farming              111   \n",
       "4                                         Corn Farming               115   \n",
       "...                                                 ...              ...   \n",
       "2345  Regulation of Agricultural Marketing and Commo...             9641   \n",
       "2346  Regulation, Licensing, and Inspection of Misce...             9651   \n",
       "2347                     Space Research and Technology              9661   \n",
       "2348                                 National Security              9711   \n",
       "2349                             International Affairs              9721   \n",
       "\n",
       "                      Related SIC Code Description Change to 2017 Code  \\\n",
       "0                                         Soybeans           No Change   \n",
       "1                                 Cash Grains, Nec           No Change   \n",
       "2                                 Cash Grains, Nec           No Change   \n",
       "3                                            Wheat           No Change   \n",
       "4                                             Corn           No Change   \n",
       "...                                            ...                 ...   \n",
       "2345          Regulation of Agricultural Marketing           No Change   \n",
       "2346  Regulation, Miscellaneous Commercial Sectors           No Change   \n",
       "2347                 Space Research and Technology           No Change   \n",
       "2348                             National Security           No Change   \n",
       "2349                         International Affairs           No Change   \n",
       "\n",
       "     2017 NAICS Code                                  2017 NAICS Code.1  \n",
       "0             111110                                    Soybean Farming  \n",
       "1             111120                  Oilseed (except Soybean) Farming   \n",
       "2             111130                          Dry Pea and Bean Farming   \n",
       "3             111140                                      Wheat Farming  \n",
       "4             111150                                      Corn Farming   \n",
       "...              ...                                                ...  \n",
       "2345          926140  Regulation of Agricultural Marketing and Commo...  \n",
       "2346          926150  Regulation, Licensing, and Inspection of Misce...  \n",
       "2347          927110                     Space Research and Technology   \n",
       "2348          928110                                 National Security   \n",
       "2349          928120                             International Affairs   \n",
       "\n",
       "[2350 rows x 8 columns]"
      ]
     },
     "execution_count": 7,
     "metadata": {},
     "output_type": "execute_result"
    }
   ],
   "source": [
    "import numpy as np\n",
    "import pandas as pd\n",
    "\n",
    "df1 = pd.read_excel('./2022-NAICS-to-SIC-Crosswalk.xlsx')\n",
    "df1"
   ]
  },
  {
   "cell_type": "code",
   "execution_count": 8,
   "id": "5077c01b",
   "metadata": {},
   "outputs": [
    {
     "data": {
      "text/plain": [
       "Index(['Input Seq 1', '2022 NAICS Code', '2022 NAICS Title',\n",
       "       'Related SIC Code', 'Related SIC Code Description',\n",
       "       'Change to 2017 Code', '2017 NAICS Code', '2017 NAICS Code.1'],\n",
       "      dtype='object')"
      ]
     },
     "execution_count": 8,
     "metadata": {},
     "output_type": "execute_result"
    }
   ],
   "source": [
    "df1.columns"
   ]
  },
  {
   "cell_type": "code",
   "execution_count": 9,
   "id": "cea5453e",
   "metadata": {},
   "outputs": [
    {
     "name": "stdout",
     "output_type": "stream",
     "text": [
      "      naics_code                                        description\n",
      "0         111110                                    Soybean Farming\n",
      "1         111120                  Oilseed (except Soybean) Farming \n",
      "2         111130                          Dry Pea and Bean Farming \n",
      "3         111140                                      Wheat Farming\n",
      "4         111150                                      Corn Farming \n",
      "...          ...                                                ...\n",
      "2345      926140  Regulation of Agricultural Marketing and Commo...\n",
      "2346      926150  Regulation, Licensing, and Inspection of Misce...\n",
      "2347      927110                     Space Research and Technology \n",
      "2348      928110                                 National Security \n",
      "2349      928120                             International Affairs \n",
      "\n",
      "[2350 rows x 2 columns]\n"
     ]
    }
   ],
   "source": [
    "df2 = pd.DataFrame({\n",
    "    'naics_code': df1['2022 NAICS Code'],\n",
    "    'description': df1['2022 NAICS Title'],\n",
    "})\n",
    "print(df2)"
   ]
  },
  {
   "cell_type": "markdown",
   "id": "dffd43c3",
   "metadata": {},
   "source": [
    "# naices_code ซ้ํา กันเยอะมากๆ ต้องเอาตัวซ้ำกันออก"
   ]
  },
  {
   "cell_type": "code",
   "execution_count": 10,
   "id": "0bec0ca8",
   "metadata": {},
   "outputs": [],
   "source": [
    "# select distinct NAICS codes\n",
    "df2 = df2.drop_duplicates(subset=['naics_code'])"
   ]
  },
  {
   "cell_type": "code",
   "execution_count": 11,
   "id": "5e9a4905",
   "metadata": {},
   "outputs": [],
   "source": [
    "df3 = pd.DataFrame({\n",
    "    'id': np.arange(1, len(df2) + 1),\n",
    "    'naics_code': df2['naics_code'],\n",
    "    'description': df2['description'],\n",
    "})"
   ]
  },
  {
   "cell_type": "code",
   "execution_count": 12,
   "id": "42cfb42f",
   "metadata": {},
   "outputs": [
    {
     "data": {
      "application/vnd.microsoft.datawrangler.viewer.v0+json": {
       "columns": [
        {
         "name": "index",
         "rawType": "int64",
         "type": "integer"
        },
        {
         "name": "id",
         "rawType": "int32",
         "type": "integer"
        },
        {
         "name": "naics_code",
         "rawType": "int64",
         "type": "integer"
        },
        {
         "name": "description",
         "rawType": "object",
         "type": "string"
        }
       ],
       "ref": "40eee5a3-fea0-4058-9e6b-42bfb12de42c",
       "rows": [
        [
         "0",
         "1",
         "111110",
         "Soybean Farming"
        ],
        [
         "1",
         "2",
         "111120",
         "Oilseed (except Soybean) Farming "
        ],
        [
         "2",
         "3",
         "111130",
         "Dry Pea and Bean Farming "
        ],
        [
         "3",
         "4",
         "111140",
         "Wheat Farming"
        ],
        [
         "4",
         "5",
         "111150",
         "Corn Farming "
        ],
        [
         "6",
         "6",
         "111160",
         "Rice Farming"
        ],
        [
         "7",
         "7",
         "111191",
         "Oilseed and Grain Combination Farming "
        ],
        [
         "8",
         "8",
         "111199",
         "All Other Grain Farming "
        ],
        [
         "10",
         "9",
         "111211",
         "Potato Farming "
        ],
        [
         "13",
         "10",
         "111219",
         "Other Vegetable (except Potato) and Melon Farming "
        ],
        [
         "15",
         "11",
         "111310",
         "Orange Groves"
        ],
        [
         "16",
         "12",
         "111320",
         "Citrus (except Orange) Groves "
        ],
        [
         "17",
         "13",
         "111331",
         "Apple Orchards "
        ],
        [
         "18",
         "14",
         "111332",
         "Grape Vineyards "
        ],
        [
         "19",
         "15",
         "111333",
         "Strawberry Farming "
        ],
        [
         "20",
         "16",
         "111334",
         "Berry (except Strawberry) Farming "
        ],
        [
         "21",
         "17",
         "111335",
         "Tree Nut Farming "
        ],
        [
         "22",
         "18",
         "111336",
         "Fruit and Tree Nut Combination Farming "
        ],
        [
         "23",
         "19",
         "111339",
         "Other Noncitrus Fruit Farming "
        ],
        [
         "25",
         "20",
         "111411",
         "Mushroom Production "
        ],
        [
         "26",
         "21",
         "111419",
         "Other Food Crops Grown Under Cover "
        ],
        [
         "27",
         "22",
         "111421",
         "Nursery and Tree Production "
        ],
        [
         "29",
         "23",
         "111422",
         "Floriculture Production "
        ],
        [
         "30",
         "24",
         "111910",
         "Tobacco Farming"
        ],
        [
         "31",
         "25",
         "111920",
         "Cotton Farming"
        ],
        [
         "32",
         "26",
         "111930",
         "Sugarcane Farming"
        ],
        [
         "33",
         "27",
         "111940",
         "Hay Farming "
        ],
        [
         "34",
         "28",
         "111991",
         "Sugar Beet Farming "
        ],
        [
         "35",
         "29",
         "111992",
         "Peanut Farming "
        ],
        [
         "36",
         "30",
         "111998",
         "All Other Miscellaneous Crop Farming "
        ],
        [
         "41",
         "31",
         "112111",
         "Beef Cattle Ranching and Farming "
        ],
        [
         "43",
         "32",
         "112112",
         "Cattle Feedlots "
        ],
        [
         "44",
         "33",
         "112120",
         "Dairy Cattle and Milk Production"
        ],
        [
         "45",
         "34",
         "112130",
         "Dual-Purpose Cattle Ranching and Farming "
        ],
        [
         "46",
         "35",
         "112210",
         "Hog and Pig Farming "
        ],
        [
         "47",
         "36",
         "112310",
         "Chicken Egg Production "
        ],
        [
         "48",
         "37",
         "112320",
         "Broilers and Other Meat Type Chicken Production "
        ],
        [
         "49",
         "38",
         "112330",
         "Turkey Production"
        ],
        [
         "50",
         "39",
         "112340",
         "Poultry Hatcheries"
        ],
        [
         "51",
         "40",
         "112390",
         "Other Poultry Production "
        ],
        [
         "52",
         "41",
         "112410",
         "Sheep Farming"
        ],
        [
         "53",
         "42",
         "112420",
         "Goat Farming"
        ],
        [
         "54",
         "43",
         "112511",
         "Finfish Farming and Fish Hatcheries "
        ],
        [
         "56",
         "44",
         "112512",
         "Shellfish Farming "
        ],
        [
         "59",
         "45",
         "112519",
         "Other Aquaculture "
        ],
        [
         "66",
         "46",
         "112910",
         "Apiculture"
        ],
        [
         "67",
         "47",
         "112920",
         "Horses and Other Equine Production"
        ],
        [
         "68",
         "48",
         "112930",
         "Fur-Bearing Animal and Rabbit Production"
        ],
        [
         "69",
         "49",
         "112990",
         "All Other Animal Production "
        ],
        [
         "72",
         "50",
         "113110",
         "Timber Tract Operations"
        ]
       ],
       "shape": {
        "columns": 3,
        "rows": 1012
       }
      },
      "text/html": [
       "<div>\n",
       "<style scoped>\n",
       "    .dataframe tbody tr th:only-of-type {\n",
       "        vertical-align: middle;\n",
       "    }\n",
       "\n",
       "    .dataframe tbody tr th {\n",
       "        vertical-align: top;\n",
       "    }\n",
       "\n",
       "    .dataframe thead th {\n",
       "        text-align: right;\n",
       "    }\n",
       "</style>\n",
       "<table border=\"1\" class=\"dataframe\">\n",
       "  <thead>\n",
       "    <tr style=\"text-align: right;\">\n",
       "      <th></th>\n",
       "      <th>id</th>\n",
       "      <th>naics_code</th>\n",
       "      <th>description</th>\n",
       "    </tr>\n",
       "  </thead>\n",
       "  <tbody>\n",
       "    <tr>\n",
       "      <th>0</th>\n",
       "      <td>1</td>\n",
       "      <td>111110</td>\n",
       "      <td>Soybean Farming</td>\n",
       "    </tr>\n",
       "    <tr>\n",
       "      <th>1</th>\n",
       "      <td>2</td>\n",
       "      <td>111120</td>\n",
       "      <td>Oilseed (except Soybean) Farming</td>\n",
       "    </tr>\n",
       "    <tr>\n",
       "      <th>2</th>\n",
       "      <td>3</td>\n",
       "      <td>111130</td>\n",
       "      <td>Dry Pea and Bean Farming</td>\n",
       "    </tr>\n",
       "    <tr>\n",
       "      <th>3</th>\n",
       "      <td>4</td>\n",
       "      <td>111140</td>\n",
       "      <td>Wheat Farming</td>\n",
       "    </tr>\n",
       "    <tr>\n",
       "      <th>4</th>\n",
       "      <td>5</td>\n",
       "      <td>111150</td>\n",
       "      <td>Corn Farming</td>\n",
       "    </tr>\n",
       "    <tr>\n",
       "      <th>...</th>\n",
       "      <td>...</td>\n",
       "      <td>...</td>\n",
       "      <td>...</td>\n",
       "    </tr>\n",
       "    <tr>\n",
       "      <th>2345</th>\n",
       "      <td>1008</td>\n",
       "      <td>926140</td>\n",
       "      <td>Regulation of Agricultural Marketing and Commo...</td>\n",
       "    </tr>\n",
       "    <tr>\n",
       "      <th>2346</th>\n",
       "      <td>1009</td>\n",
       "      <td>926150</td>\n",
       "      <td>Regulation, Licensing, and Inspection of Misce...</td>\n",
       "    </tr>\n",
       "    <tr>\n",
       "      <th>2347</th>\n",
       "      <td>1010</td>\n",
       "      <td>927110</td>\n",
       "      <td>Space Research and Technology</td>\n",
       "    </tr>\n",
       "    <tr>\n",
       "      <th>2348</th>\n",
       "      <td>1011</td>\n",
       "      <td>928110</td>\n",
       "      <td>National Security</td>\n",
       "    </tr>\n",
       "    <tr>\n",
       "      <th>2349</th>\n",
       "      <td>1012</td>\n",
       "      <td>928120</td>\n",
       "      <td>International Affairs</td>\n",
       "    </tr>\n",
       "  </tbody>\n",
       "</table>\n",
       "<p>1012 rows × 3 columns</p>\n",
       "</div>"
      ],
      "text/plain": [
       "        id  naics_code                                        description\n",
       "0        1      111110                                    Soybean Farming\n",
       "1        2      111120                  Oilseed (except Soybean) Farming \n",
       "2        3      111130                          Dry Pea and Bean Farming \n",
       "3        4      111140                                      Wheat Farming\n",
       "4        5      111150                                      Corn Farming \n",
       "...    ...         ...                                                ...\n",
       "2345  1008      926140  Regulation of Agricultural Marketing and Commo...\n",
       "2346  1009      926150  Regulation, Licensing, and Inspection of Misce...\n",
       "2347  1010      927110                     Space Research and Technology \n",
       "2348  1011      928110                                 National Security \n",
       "2349  1012      928120                             International Affairs \n",
       "\n",
       "[1012 rows x 3 columns]"
      ]
     },
     "execution_count": 12,
     "metadata": {},
     "output_type": "execute_result"
    }
   ],
   "source": [
    "df3"
   ]
  },
  {
   "cell_type": "code",
   "execution_count": 13,
   "id": "376c1d2d",
   "metadata": {},
   "outputs": [],
   "source": [
    "df3.to_csv('./static_industry_type.csv', index=False)"
   ]
  }
 ],
 "metadata": {
  "kernelspec": {
   "display_name": "Python 3",
   "language": "python",
   "name": "python3"
  },
  "language_info": {
   "codemirror_mode": {
    "name": "ipython",
    "version": 3
   },
   "file_extension": ".py",
   "mimetype": "text/x-python",
   "name": "python",
   "nbconvert_exporter": "python",
   "pygments_lexer": "ipython3",
   "version": "3.11.7"
  }
 },
 "nbformat": 4,
 "nbformat_minor": 5
}
